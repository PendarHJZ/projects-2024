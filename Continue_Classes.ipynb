{
  "cells": [
    {
      "cell_type": "code",
      "execution_count": null,
      "metadata": {
        "id": "y4sYQDU9I-Gy"
      },
      "outputs": [],
      "source": [
        "class instrument:\n",
        "  def __init__(self, Type, name):\n",
        "    self.Type = Type\n",
        "    self.name = name\n",
        "  def information(self):\n",
        "    Types = ['Percussion instruments', 'String instruments' ]\n",
        "    if self.Type in Types:\n",
        "      print(f\"The {self.name} is a {self.Type} instrument.\")\n",
        "      if self.Type in ['Percussion instruments']:\n",
        "        print(f\"The {self.name} is a percussion instrument\")\n",
        "      elif self.Type in ['String instruments']:\n",
        "        print(f\"The {self.name} is a String instrument\")\n",
        "    else:\n",
        "      print('The type of the instrument is wrong')"
      ]
    },
    {
      "cell_type": "code",
      "execution_count": null,
      "metadata": {
        "colab": {
          "background_save": true
        },
        "id": "IZ6Glt86SfgK",
        "outputId": "7ba78f7c-7baa-4108-c7af-e1c1805bdd00"
      },
      "outputs": [
        {
          "ename": "IndentationError",
          "evalue": "unindent does not match any outer indentation level (<tokenize>, line 10)",
          "output_type": "error",
          "traceback": [
            "\u001b[0;36m  File \u001b[0;32m\"<tokenize>\"\u001b[0;36m, line \u001b[0;32m10\u001b[0m\n\u001b[0;31m    else:\u001b[0m\n\u001b[0m    ^\u001b[0m\n\u001b[0;31mIndentationError\u001b[0m\u001b[0;31m:\u001b[0m unindent does not match any outer indentation level\n"
          ]
        }
      ],
      "source": [
        "class Piano(instrument):\n",
        "   def __init__(self, Type, name, pianotype):\n",
        "    super().__init__(Type, name)\n",
        "    self.pianotype = pianotype\n",
        "\n",
        "   def now(self):\n",
        "     typess = [\"Acoustic\", \"Electric\"]\n",
        "     if self.pianotype in typess:\n",
        "      print('The piano type is {self.pianotype}')"
      ]
    },
    {
      "cell_type": "code",
      "source": [
        "class Acoustic(Piano):\n",
        "  def __init__(self, Type, name, pianotype, Acoustictype, color):\n",
        "    super().__init__(Type, name, pianotype)\n",
        "    self.Acoustictype = Acoustictype\n",
        "    self.color = color\n",
        "  def sound(self):\n",
        "    print('Bom Bom')"
      ],
      "metadata": {
        "colab": {
          "base_uri": "https://localhost:8080/",
          "height": 220
        },
        "id": "NtLAro4m9qQP",
        "outputId": "fa6a76dd-c77e-4693-97e6-87a034ea158d"
      },
      "execution_count": 1,
      "outputs": [
        {
          "output_type": "error",
          "ename": "NameError",
          "evalue": "name 'Piano' is not defined",
          "traceback": [
            "\u001b[0;31m---------------------------------------------------------------------------\u001b[0m",
            "\u001b[0;31mNameError\u001b[0m                                 Traceback (most recent call last)",
            "\u001b[0;32m<ipython-input-1-6ddbd4b46e87>\u001b[0m in \u001b[0;36m<cell line: 1>\u001b[0;34m()\u001b[0m\n\u001b[0;32m----> 1\u001b[0;31m \u001b[0;32mclass\u001b[0m \u001b[0mAcoustic\u001b[0m\u001b[0;34m(\u001b[0m\u001b[0mPiano\u001b[0m\u001b[0;34m)\u001b[0m\u001b[0;34m:\u001b[0m\u001b[0;34m\u001b[0m\u001b[0;34m\u001b[0m\u001b[0m\n\u001b[0m\u001b[1;32m      2\u001b[0m   \u001b[0;32mdef\u001b[0m \u001b[0m__init__\u001b[0m\u001b[0;34m(\u001b[0m\u001b[0mself\u001b[0m\u001b[0;34m,\u001b[0m \u001b[0mType\u001b[0m\u001b[0;34m,\u001b[0m \u001b[0mname\u001b[0m\u001b[0;34m,\u001b[0m \u001b[0mpianotype\u001b[0m\u001b[0;34m,\u001b[0m \u001b[0mAcoustictype\u001b[0m\u001b[0;34m,\u001b[0m \u001b[0mcolor\u001b[0m\u001b[0;34m)\u001b[0m\u001b[0;34m:\u001b[0m\u001b[0;34m\u001b[0m\u001b[0;34m\u001b[0m\u001b[0m\n\u001b[1;32m      3\u001b[0m     \u001b[0msuper\u001b[0m\u001b[0;34m(\u001b[0m\u001b[0;34m)\u001b[0m\u001b[0;34m.\u001b[0m\u001b[0m__init__\u001b[0m\u001b[0;34m(\u001b[0m\u001b[0mType\u001b[0m\u001b[0;34m,\u001b[0m \u001b[0mname\u001b[0m\u001b[0;34m,\u001b[0m \u001b[0mpianotype\u001b[0m\u001b[0;34m)\u001b[0m\u001b[0;34m\u001b[0m\u001b[0;34m\u001b[0m\u001b[0m\n\u001b[1;32m      4\u001b[0m     \u001b[0mself\u001b[0m\u001b[0;34m.\u001b[0m\u001b[0mAcoustictype\u001b[0m \u001b[0;34m=\u001b[0m \u001b[0mAcoustictype\u001b[0m\u001b[0;34m\u001b[0m\u001b[0;34m\u001b[0m\u001b[0m\n\u001b[1;32m      5\u001b[0m     \u001b[0mself\u001b[0m\u001b[0;34m.\u001b[0m\u001b[0mcolor\u001b[0m \u001b[0;34m=\u001b[0m \u001b[0mcolor\u001b[0m\u001b[0;34m\u001b[0m\u001b[0;34m\u001b[0m\u001b[0m\n",
            "\u001b[0;31mNameError\u001b[0m: name 'Piano' is not defined"
          ]
        }
      ]
    },
    {
      "cell_type": "code",
      "source": [
        "\n",
        "class Electric(Piano):\n",
        "  def __init__(self, Type, name, pianotype, price):\n",
        "    super().__init__(Type, name, pianotype)\n",
        "    self.price = price\n",
        "  def metronomsound(self):\n",
        "    print('110')"
      ],
      "metadata": {
        "id": "F1iPTYxj9q6F"
      },
      "execution_count": null,
      "outputs": []
    }
  ],
  "metadata": {
    "colab": {
      "provenance": []
    },
    "kernelspec": {
      "display_name": "Python 3",
      "name": "python3"
    },
    "language_info": {
      "name": "python"
    }
  },
  "nbformat": 4,
  "nbformat_minor": 0
}